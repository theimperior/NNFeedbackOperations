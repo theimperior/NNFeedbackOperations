{
 "cells": [
  {
   "cell_type": "code",
   "execution_count": 5,
   "metadata": {},
   "outputs": [
    {
     "data": {
      "text/plain": [
       "31"
      ]
     },
     "execution_count": 5,
     "metadata": {},
     "output_type": "execute_result"
    }
   ],
   "source": [
    "input_size=(31,32)\n",
    "typeof(input_size)\n",
    "input_size[1]"
   ]
  },
  {
   "cell_type": "code",
   "execution_count": 5,
   "metadata": {},
   "outputs": [
    {
     "ename": "DimensionMismatch",
     "evalue": "DimensionMismatch(\"dimensions must match\")",
     "output_type": "error",
     "traceback": [
      "DimensionMismatch(\"dimensions must match\")",
      "",
      "Stacktrace:",
      " [1] promote_shape at .\\indices.jl:154 [inlined]",
      " [2] promote_shape at .\\indices.jl:145 [inlined]",
      " [3] + at .\\arraymath.jl:45 [inlined]",
      " [4] accum(::Array{Float64,1}, ::Array{Float64,1}) at .\\In[5]:3",
      " [5] (::Flux.Recur{typeof(accum)})(::Array{Float64,1}) at C:\\Users\\Sebastian Vendt\\.julia\\packages\\Flux\\qXNjB\\src\\layers\\recurrent.jl:36",
      " [6] loss(::Array{Float64,1}, ::Array{Float64,1}) at .\\In[5]:17",
      " [7] #15 at C:\\Users\\Sebastian Vendt\\.julia\\packages\\Flux\\qXNjB\\src\\optimise\\train.jl:72 [inlined]",
      " [8] gradient_(::getfield(Flux.Optimise, Symbol(\"##15#21\")){typeof(loss),Tuple{Array{Float64,1},Array{Float64,1}}}, ::Tracker.Params) at C:\\Users\\Sebastian Vendt\\.julia\\packages\\Tracker\\RRYy6\\src\\back.jl:97",
      " [9] #gradient#24(::Bool, ::Function, ::Function, ::Tracker.Params) at C:\\Users\\Sebastian Vendt\\.julia\\packages\\Tracker\\RRYy6\\src\\back.jl:164",
      " [10] gradient at C:\\Users\\Sebastian Vendt\\.julia\\packages\\Tracker\\RRYy6\\src\\back.jl:164 [inlined]",
      " [11] macro expansion at C:\\Users\\Sebastian Vendt\\.julia\\packages\\Flux\\qXNjB\\src\\optimise\\train.jl:71 [inlined]",
      " [12] macro expansion at C:\\Users\\Sebastian Vendt\\.julia\\packages\\Juno\\TfNYn\\src\\progress.jl:133 [inlined]",
      " [13] #train!#12(::getfield(Flux.Optimise, Symbol(\"##16#22\")), ::Function, ::Function, ::Tracker.Params, ::Array{Tuple{Array{Float64,1},Array{Float64,1}},1}, ::ADAM) at C:\\Users\\Sebastian Vendt\\.julia\\packages\\Flux\\qXNjB\\src\\optimise\\train.jl:69",
      " [14] train!(::Function, ::Tracker.Params, ::Array{Tuple{Array{Float64,1},Array{Float64,1}},1}, ::ADAM) at C:\\Users\\Sebastian Vendt\\.julia\\packages\\Flux\\qXNjB\\src\\optimise\\train.jl:67",
      " [15] top-level scope at In[5]:23"
     ]
    }
   ],
   "source": [
    "using Flux;\n",
    "\n",
    "accum(h, x) = (h+x, x)\n",
    "rnn = Flux.Recur(accum, rand(10))\n",
    "#@show(rnn(2)) # 2\n",
    "#@show(rnn(3)) # 3\n",
    "#@show(rnn(4))\n",
    "#@show(rnn.state) # 5\n",
    "#rnn.(1:10) # apply to a sequence\n",
    "#@show(rnn.state) # 60\n",
    "#Flux.reset!(rnn)\n",
    "#@show(rnn(2)) # 2\n",
    "#@show(rnn(3)) # 3\n",
    "#@show(rnn(4))\n",
    "#@show(rnn.state) # 5\n",
    "\n",
    "loss(x, y) = Flux.mse(rnn(x), y)\n",
    "ps = Flux.params(rnn)\n",
    "x = rand(784)\n",
    "y = rand(10)\n",
    "data = [(x, y), (x, y), (x, y)]\n",
    "opt = ADAM()\n",
    "Flux.train!(loss, ps, data, opt)\n"
   ]
  },
  {
   "cell_type": "code",
   "execution_count": 10,
   "metadata": {},
   "outputs": [
    {
     "ename": "MethodError",
     "evalue": "MethodError: no method matching acc(::Tuple{Int64,Int64}, ::Tuple{Int64,Int64}, ::Tuple{Int64,Int64})\nClosest candidates are:\n  acc(::Any, ::Any) at In[10]:2",
     "output_type": "error",
     "traceback": [
      "MethodError: no method matching acc(::Tuple{Int64,Int64}, ::Tuple{Int64,Int64}, ::Tuple{Int64,Int64})\nClosest candidates are:\n  acc(::Any, ::Any) at In[10]:2",
      "",
      "Stacktrace:",
      " [1] top-level scope at In[10]:3"
     ]
    }
   ],
   "source": [
    "x = [(1, 2), (3, 4), (5, 6)]\n",
    "acc(x, y) = @show(x) \n",
    "acc(x...)"
   ]
  },
  {
   "cell_type": "code",
   "execution_count": 30,
   "metadata": {},
   "outputs": [
    {
     "data": {
      "text/plain": [
       "0.5"
      ]
     },
     "execution_count": 30,
     "metadata": {},
     "output_type": "execute_result"
    }
   ],
   "source": [
    "using Flux: onecold\n",
    "using Statistics\n",
    "a = [0.2 0.2; 0.1 0.5; 0.2 0.2; 0.5 0.1]\n",
    "c = [1 0; 0 1; 0 0; 0 0]\n",
    "b = onecold(a)\n",
    "\n",
    "d = onecold(c)\n",
    "mean(onecold(a) .== onecold(c))"
   ]
  },
  {
   "cell_type": "code",
   "execution_count": 8,
   "metadata": {},
   "outputs": [
    {
     "name": "stdout",
     "output_type": "stream",
     "text": [
      "typeof(a) = Array{UInt8,2}\n",
      "typeof(B) = Array{Float32,2}\n"
     ]
    },
    {
     "ename": "DimensionMismatch",
     "evalue": "DimensionMismatch(\"tried to assign 5×5 array to 10×5 destination\")",
     "output_type": "error",
     "traceback": [
      "DimensionMismatch(\"tried to assign 5×5 array to 10×5 destination\")",
      "",
      "Stacktrace:",
      " [1] throw_setindex_mismatch(::Array{UInt8,2}, ::Tuple{Int64,Int64}) at .\\indices.jl:169",
      " [2] setindex_shape_check at .\\indices.jl:226 [inlined]",
      " [3] macro expansion at .\\multidimensional.jl:694 [inlined]",
      " [4] _unsafe_setindex!(::IndexLinear, ::Array{Float32,2}, ::Array{UInt8,2}, ::Base.Slice{Base.OneTo{Int64}}, ::Base.Slice{Base.OneTo{Int64}}) at .\\multidimensional.jl:689",
      " [5] _setindex! at .\\multidimensional.jl:684 [inlined]",
      " [6] setindex!(::Array{Float32,2}, ::Array{UInt8,2}, ::Function, ::Function) at .\\abstractarray.jl:1020",
      " [7] top-level scope at In[8]:5"
     ]
    }
   ],
   "source": [
    "B = Array{Float32, 2}(undef, 10, 5)\n",
    "a = rand(UInt8, 5, 5)\n",
    "@show(typeof(a))\n",
    "@show(typeof(B))\n",
    "\n",
    "B[:,:] = a\n",
    "@show(typeof(B))"
   ]
  },
  {
   "cell_type": "code",
   "execution_count": 30,
   "metadata": {},
   "outputs": [
    {
     "ename": "LoadError",
     "evalue": "syntax: invalid character literal",
     "output_type": "error",
     "traceback": [
      "syntax: invalid character literal",
      ""
     ]
    }
   ],
   "source": [
    "function makebatch(filepath, filenames...)\n",
    "    @show(length(filenames))\n",
    "    for (i, filename) in enumerate(filenames)\n",
    "        fp = \"$filepath$filename\"\n",
    "        @show(fp)\n",
    "    end\n",
    "end\n",
    "f = ''$(y)digit$(z).mat''\n",
    "filenames = [f for y=1,z in 1:10]\n",
    "\n",
    "@show(filenames)"
   ]
  },
  {
   "cell_type": "code",
   "execution_count": 27,
   "metadata": {},
   "outputs": [
    {
     "name": "stdout",
     "output_type": "stream",
     "text": [
      "size(images, 2) = 32\n",
      "isnothing(test) = "
     ]
    },
    {
     "data": {
      "text/plain": [
       "true"
      ]
     },
     "execution_count": 27,
     "metadata": {},
     "output_type": "execute_result"
    },
    {
     "name": "stdout",
     "output_type": "stream",
     "text": [
      "true\n"
     ]
    }
   ],
   "source": [
    "using MAT\n",
    "test = Array{Float32}(undef, 2)\n",
    "matfile = matopen(\"../digitclutter/digitclutter/200_4digits.mat\")\n",
    "images = read(matfile, \"images\")\n",
    "#targets = read(file, \"targets\")\n",
    "bin_targets = read(matfile, \"binary_targets\")\n",
    "close(matfile) \n",
    "@show(size(images, 2))\n",
    "newarray = cat(dims=1, images, rand(UInt8, 200, 32, 32, 1))\n",
    "@show(isnothing(test))\n"
   ]
  },
  {
   "cell_type": "code",
   "execution_count": 1,
   "metadata": {},
   "outputs": [],
   "source": [
    "include(\"../src/dataManager.jl\")\n",
    "using .dataManager: make_batch"
   ]
  },
  {
   "cell_type": "code",
   "execution_count": 2,
   "metadata": {},
   "outputs": [
    {
     "name": "stdout",
     "output_type": "stream",
     "text": [
      "Reading 1 of 20 from ../digitclutter/digitdebris/trainset/mat/5000_10debris1.mat\n",
      "Reading 2 of 20 from ../digitclutter/digitdebris/trainset/mat/5000_10debris2.mat\n",
      "Reading 3 of 20 from ../digitclutter/digitdebris/trainset/mat/5000_10debris3.mat\n",
      "Reading 4 of 20 from ../digitclutter/digitdebris/trainset/mat/5000_10debris4.mat\n",
      "Reading 5 of 20 from ../digitclutter/digitdebris/trainset/mat/5000_10debris5.mat\n",
      "Reading 6 of 20 from ../digitclutter/digitdebris/trainset/mat/5000_10debris6.mat\n",
      "Reading 7 of 20 from ../digitclutter/digitdebris/trainset/mat/5000_10debris7.mat\n",
      "Reading 8 of 20 from ../digitclutter/digitdebris/trainset/mat/5000_10debris8.mat\n",
      "Reading 9 of 20 from ../digitclutter/digitdebris/trainset/mat/5000_10debris9.mat\n",
      "Reading 10 of 20 from ../digitclutter/digitdebris/trainset/mat/5000_10debris10.mat\n",
      "Reading 11 of 20 from ../digitclutter/digitdebris/trainset/mat/5000_10debris11.mat\n",
      "Reading 12 of 20 from ../digitclutter/digitdebris/trainset/mat/5000_10debris12.mat\n",
      "Reading 13 of 20 from ../digitclutter/digitdebris/trainset/mat/5000_10debris13.mat\n",
      "Reading 14 of 20 from ../digitclutter/digitdebris/trainset/mat/5000_10debris14.mat\n",
      "Reading 15 of 20 from ../digitclutter/digitdebris/trainset/mat/5000_10debris15.mat\n",
      "Reading 16 of 20 from ../digitclutter/digitdebris/trainset/mat/5000_10debris16.mat\n",
      "Reading 17 of 20 from ../digitclutter/digitdebris/trainset/mat/5000_10debris17.mat\n",
      "Reading 18 of 20 from ../digitclutter/digitdebris/trainset/mat/5000_10debris18.mat\n",
      "Reading 19 of 20 from ../digitclutter/digitdebris/trainset/mat/5000_10debris19.mat\n",
      "Reading 20 of 20 from ../digitclutter/digitdebris/trainset/mat/5000_10debris20.mat\n",
      "Dimension of images (32, 32, 1, 100000)\n",
      "Dimension of binary targets (10, 100000)\n",
      "normalize dataset...\n",
      "typeof(std_img_tmp) = Array{Float64,4}\n",
      "typeof(mean_img) = Array{Float64,4}\n",
      "typeof((images[:, :, :, 10] - mean_img) ./ std_img_tmp) = Array{Float64,4}\n",
      "typeof(images) = Array{Float64,4}\n"
     ]
    },
    {
     "name": "stderr",
     "output_type": "stream",
     "text": [
      "\u001b[32mProgress: 100%|█████████████████████████████████████████| Time: 0:00:04\u001b[39m\n"
     ]
    },
    {
     "name": "stdout",
     "output_type": "stream",
     "text": [
      "Creating batches\n",
      "size((test_set[1])[1]) = (32, 32, 1, 100)\n",
      "size((test_set[1])[2]) = (10, 100)\n",
      "length(test_set) = 1000\n",
      "typeof((test_set[1])[1]) = Array{Float32,4}\n",
      "typeof((test_set[1])[2]) = Array{Float32,2}\n",
      "typeof(test_set) = Array{Tuple{Array{Float32,4},Array{Float32,2}},1}\n"
     ]
    },
    {
     "data": {
      "text/plain": [
       "Array{Tuple{Array{Float32,4},Array{Float32,2}},1}"
      ]
     },
     "execution_count": 2,
     "metadata": {},
     "output_type": "execute_result"
    }
   ],
   "source": [
    "test_set, temp1, temp2 = make_batch(\"../digitclutter/digitdebris/trainset/mat/\", [\"5000_10debris$k.mat\" for k in 1:20]..., batch_size=100)\n",
    "@show(size(test_set[1][1]))\n",
    "@show(size(test_set[1][2]))\n",
    "@show(length(test_set))\n",
    "\n",
    "@show(typeof(test_set[1][1]))\n",
    "@show(typeof(test_set[1][2]))\n",
    "@show(typeof(test_set))"
   ]
  },
  {
   "cell_type": "code",
   "execution_count": 3,
   "metadata": {},
   "outputs": [
    {
     "data": {
      "text/plain": [
       "33×32×32 Array{Union{Nothing, Float64},3}:\n",
       "[:, :, 1] =\n",
       "  nothing    nothing    nothing    …   nothing    nothing   nothing \n",
       " 0.514924   0.0194669  0.0711095      0.468479   0.640582  0.93063  \n",
       " 0.696275   0.456957   0.0798559      0.498445   0.342631  0.20153  \n",
       " 0.83929    0.534113   0.921934       0.837251   0.010583  0.611833 \n",
       " 0.601505   0.846731   0.191501       0.163706   0.739035  0.426372 \n",
       " 0.684305   0.118521   0.191397    …  0.0745858  0.266692  0.238054 \n",
       " 0.305186   0.83846    0.652916       0.652655   0.527564  0.265779 \n",
       " 0.805639   0.686827   0.375962       0.86978    0.885708  0.786396 \n",
       " 0.344956   0.360963   0.557219       0.30383    0.470832  0.0162502\n",
       " 0.31261    0.0344266  0.954779       0.080751   0.940463  0.12458  \n",
       " 0.152064   0.61134    0.751403    …  0.797657   0.405167  0.608789 \n",
       " 0.303264   0.949931   0.254291       0.202132   0.200464  0.136707 \n",
       " 0.434908   0.156053   0.525565       0.482285   0.990564  0.74009  \n",
       " ⋮                                 ⋱             ⋮                  \n",
       " 0.313322   0.908469   0.729407       0.639806   0.025114  0.64259  \n",
       " 0.799902   0.260581   0.884839       0.933003   0.493081  0.613463 \n",
       " 0.15116    0.329166   0.00572687     0.999118   0.860094  0.595092 \n",
       " 0.0403175  0.588784   0.899533       0.944135   0.189544  0.397124 \n",
       " 0.0455147  0.346929   0.967933    …  0.339873   0.335538  0.322205 \n",
       " 0.536225   0.776152   0.281987       0.552322   0.586974  0.25846  \n",
       " 0.209595   0.48364    0.409683       0.0564996  0.16756   0.451251 \n",
       " 0.188177   0.115018   0.757025       0.949312   0.30705   0.738105 \n",
       " 0.767239   0.0435825  0.979712       0.572146   0.359833  0.515539 \n",
       " 0.630314   0.158755   0.280713    …  0.973416   0.744174  0.187817 \n",
       " 0.573458   0.0527257  0.0623556      0.196149   0.661182  0.993434 \n",
       " 0.0101857  0.563497   0.697076       0.471189   0.278326  0.261747 \n",
       "\n",
       "[:, :, 2] =\n",
       "  nothing    nothing    nothing   …   nothing    nothing     nothing\n",
       " 0.147928   0.205791   0.0541878     0.283231   0.0199007   0.594696\n",
       " 0.989879   0.650627   0.128175      0.589655   0.00521582  0.631235\n",
       " 0.452859   0.0816886  0.0563086     0.596458   0.307846    0.83177 \n",
       " 0.611949   0.667337   0.727655      0.051392   0.734485    0.891039\n",
       " 0.826445   0.625389   0.323002   …  0.536325   0.504703    0.215451\n",
       " 0.898515   0.894583   0.550738      0.112522   0.0747221   0.502415\n",
       " 0.653577   0.271111   0.969776      0.808123   0.867598    0.126924\n",
       " 0.642416   0.923126   0.0238053     0.56982    0.158608    0.286514\n",
       " 0.441877   0.742971   0.335347      0.214835   0.992236    0.469575\n",
       " 0.247813   0.663359   0.770871   …  0.163966   0.929941    0.816529\n",
       " 0.872522   0.248855   0.874527      0.370276   0.68866     0.130113\n",
       " 0.945244   0.635913   0.800393      0.0727935  0.476176    0.861489\n",
       " ⋮                                ⋱             ⋮                   \n",
       " 0.0632992  0.685424   0.161504      0.641122   0.17188     0.55503 \n",
       " 0.498392   0.126733   0.116344      0.490371   0.688939    0.860461\n",
       " 0.963949   0.301568   0.952521      0.543407   0.0438029   0.338389\n",
       " 0.182026   0.149261   0.52937       0.990057   0.126984    0.899245\n",
       " 0.147069   0.460195   0.18065    …  0.428813   0.27335     0.362442\n",
       " 0.124283   0.521576   0.181347      0.847572   0.188906    0.344899\n",
       " 0.468549   0.374559   0.762344      0.67544    0.718589    0.94282 \n",
       " 0.50307    0.45712    0.935715      0.521724   0.347044    0.932419\n",
       " 0.176173   0.604012   0.427204      0.215018   0.0632939   0.442719\n",
       " 0.716307   0.408546   0.288302   …  0.729902   0.349585    0.437976\n",
       " 0.808747   0.562456   0.6087        0.6288     0.9499      0.853431\n",
       " 0.101055   0.587311   0.832281      0.385911   0.940272    0.236686\n",
       "\n",
       "[:, :, 3] =\n",
       "  nothing    nothing    nothing   …   nothing    nothing   nothing \n",
       " 0.613037   0.78533    0.485668      0.257764   0.794547  0.455383 \n",
       " 0.83786    0.384098   0.775157      0.514674   0.641394  0.852152 \n",
       " 0.481649   0.922257   0.740905      0.144355   0.859359  0.0966989\n",
       " 0.135222   0.738138   0.579626      0.490779   0.274613  0.786642 \n",
       " 0.047269   0.240297   0.122158   …  0.184624   0.714604  0.241109 \n",
       " 0.60324    0.443762   0.537108      0.582017   0.552222  0.827712 \n",
       " 0.728709   0.782638   0.248959      0.440863   0.104771  0.681444 \n",
       " 0.534512   0.616192   0.775149      0.0107556  0.520755  0.54117  \n",
       " 0.847905   0.582218   0.0483109     0.0480379  0.592237  0.600452 \n",
       " 0.0360254  0.620898   0.706542   …  0.0238662  0.766629  0.51611  \n",
       " 0.837743   0.540634   0.852237      0.72911    0.149972  0.614901 \n",
       " 0.333287   0.0602301  0.402416      0.158069   0.293139  0.258862 \n",
       " ⋮                                ⋱             ⋮                  \n",
       " 0.786777   0.568872   0.457721      0.05014    0.651961  0.0281483\n",
       " 0.904382   0.903713   0.0523128     0.956149   0.328309  0.25408  \n",
       " 0.78911    0.310185   0.445053      0.93761    0.572872  0.699775 \n",
       " 0.0808664  0.226746   0.477018      0.0655271  0.378358  0.230555 \n",
       " 0.252879   0.864405   0.813652   …  0.127704   0.695338  0.850286 \n",
       " 0.669051   0.766017   0.531754      0.936196   0.676761  0.88484  \n",
       " 0.538815   0.60505    0.583779      0.732547   0.596005  0.112322 \n",
       " 0.850022   0.539048   0.91225       0.601505   0.987603  0.904668 \n",
       " 0.566065   0.916894   0.61798       0.580311   0.240407  0.417605 \n",
       " 0.680067   0.55775    0.107364   …  0.86724    0.796503  0.798874 \n",
       " 0.935074   0.612818   0.903196      0.782281   0.464718  0.606282 \n",
       " 0.391347   0.256993   0.569672      0.474506   0.402307  0.838646 \n",
       "\n",
       "...\n",
       "\n",
       "[:, :, 30] =\n",
       "  nothing     nothing    nothing   …   nothing    nothing    nothing \n",
       " 0.15083     0.729062   0.37508       0.317553   0.213253   0.217095 \n",
       " 0.198155    0.54483    0.086195      0.627412   0.0795186  0.772234 \n",
       " 0.718571    0.531094   0.537876      0.855201   0.80467    0.773722 \n",
       " 0.912827    0.6859     0.418693      0.807649   0.11841    0.543768 \n",
       " 0.643747    0.446837   0.721209   …  0.563378   0.667418   0.626948 \n",
       " 0.00811244  0.478381   0.606097      0.656677   0.637979   0.53992  \n",
       " 0.435882    0.595984   0.699328      0.893474   0.824479   0.962717 \n",
       " 0.917533    0.824867   0.744094      0.195822   0.68217    0.753439 \n",
       " 0.188175    0.738364   0.170855      0.0169125  0.159457   0.499999 \n",
       " 0.712648    0.140283   0.963537   …  0.797471   0.530289   0.668765 \n",
       " 0.724514    0.461777   0.578508      0.842072   0.817316   0.866472 \n",
       " 0.111193    0.220229   0.653636      0.496569   0.134887   0.611174 \n",
       " ⋮                                 ⋱             ⋮                   \n",
       " 0.385546    0.388961   0.157699      0.395914   0.840002   0.387919 \n",
       " 0.916052    0.407052   0.651986      0.287118   0.185027   0.0217603\n",
       " 0.499353    0.791621   0.52504       0.460792   0.463337   0.595077 \n",
       " 0.1357      0.0719684  0.718383      0.858883   0.615549   0.327079 \n",
       " 0.364155    0.685957   0.204197   …  0.702628   0.157655   0.190621 \n",
       " 0.353988    0.78017    0.51451       0.644948   0.153831   0.909686 \n",
       " 0.470414    0.345052   0.438341      0.84748    0.73984    0.412527 \n",
       " 0.0242195   0.365753   0.777546      0.562599   0.601855   0.821488 \n",
       " 0.382506    0.0902545  0.0335068     0.770898   0.261303   0.431766 \n",
       " 0.578911    0.228651   0.103885   …  0.989543   0.660303   0.0937561\n",
       " 0.103262    0.50554    0.0202494     0.285134   0.464568   0.751732 \n",
       " 0.544116    0.71242    0.767397      0.424      0.389041   0.0245081\n",
       "\n",
       "[:, :, 31] =\n",
       "  nothing    nothing    nothing   …   nothing    nothing    nothing \n",
       " 0.529281   0.926704   0.0253643     0.586724   0.87939    0.143541 \n",
       " 0.909223   0.0729383  0.143002      0.0937627  0.598666   0.559244 \n",
       " 0.241979   0.015113   0.901913      0.346053   0.52003    0.591134 \n",
       " 0.246341   0.654327   0.668714      0.461518   0.845681   0.0853568\n",
       " 0.328742   0.109223   0.599193   …  0.778417   0.820056   0.210943 \n",
       " 0.169036   0.308352   0.859325      0.703005   0.0365074  0.800297 \n",
       " 0.972149   0.0290957  0.301277      0.574665   0.963711   0.988121 \n",
       " 0.281381   0.94052    0.64214       0.917746   0.530253   0.501853 \n",
       " 0.607505   0.300753   0.0179933     0.0277341  0.875891   0.127869 \n",
       " 0.884388   0.287686   0.537451   …  0.609121   0.0181425  0.245285 \n",
       " 0.780535   0.519168   0.44453       0.307356   0.51164    0.271345 \n",
       " 0.12449    0.577849   0.39126       0.0828654  0.663903   0.128126 \n",
       " ⋮                                ⋱             ⋮                   \n",
       " 0.631377   0.837124   0.0963853     0.65906    0.383472   0.243118 \n",
       " 0.0605533  0.637569   0.821008      0.454414   0.531091   0.306679 \n",
       " 0.822698   0.597065   0.110384      0.978267   0.0668766  0.898852 \n",
       " 0.0590338  0.843068   0.88783       0.244292   0.094163   0.558224 \n",
       " 0.833015   0.4836     0.323899   …  0.842135   0.204692   0.484847 \n",
       " 0.697532   0.748663   0.444653      0.694734   0.922866   0.310946 \n",
       " 0.197478   0.188202   0.168165      0.530646   0.859688   0.0515199\n",
       " 0.767274   0.615202   0.877747      0.676291   0.685055   0.935165 \n",
       " 0.972444   0.495808   0.486504      0.300074   0.532842   0.371387 \n",
       " 0.51019    0.822567   0.136473   …  0.708477   0.620554   0.804494 \n",
       " 0.978146   0.0619931  0.398587      0.347298   0.655565   0.554634 \n",
       " 0.752141   0.328464   0.728636      0.827081   0.544253   0.34835  \n",
       "\n",
       "[:, :, 32] =\n",
       "  nothing    nothing     nothing   …   nothing   nothing    nothing \n",
       " 0.906097   0.960726    0.389033      0.703554  0.238038   0.82991  \n",
       " 0.0520883  0.102094    0.619987      0.943408  0.945676   0.863575 \n",
       " 0.734685   0.116903    0.738914      0.862249  0.485164   0.883949 \n",
       " 0.220716   0.753089    0.497209      0.753229  0.879526   0.16891  \n",
       " 0.383964   0.0183036   0.964085   …  0.396783  0.553916   0.447717 \n",
       " 0.352452   0.735619    0.816882      0.740987  0.247022   0.0603566\n",
       " 0.451322   0.528375    0.0793732     0.738151  0.791531   0.701537 \n",
       " 0.896449   0.23588     0.0503704     0.263663  0.895286   0.704357 \n",
       " 0.0584922  0.659192    0.484322      0.051462  0.397135   0.295929 \n",
       " 0.88721    0.602167    0.846343   …  0.65831   0.883595   0.28636  \n",
       " 0.906065   0.315461    0.966301      0.628684  0.265237   0.981437 \n",
       " 0.4409     0.995052    0.548111      0.152252  0.555848   0.206699 \n",
       " ⋮                                 ⋱            ⋮                   \n",
       " 0.436462   0.73046     0.253648      0.791743  0.903939   0.315172 \n",
       " 0.728695   0.00194626  0.310545      0.981788  0.297607   0.401894 \n",
       " 0.0600918  0.597926    0.055158      0.477976  0.718475   0.356592 \n",
       " 0.282148   0.991267    0.468803      0.843389  0.640787   0.445212 \n",
       " 0.209814   0.0120881   0.116776   …  0.137922  0.384145   0.428177 \n",
       " 0.436442   0.312071    0.0310662     0.939643  0.0736289  0.964818 \n",
       " 0.122442   0.919273    0.211565      0.651966  0.664481   0.43235  \n",
       " 0.674626   0.012127    0.492956      0.38101   0.837707   0.653175 \n",
       " 0.431283   0.519346    0.62912       0.881194  0.338969   0.961612 \n",
       " 0.877621   0.147819    0.132629   …  0.720381  0.277968   0.73943  \n",
       " 0.620646   0.00719232  0.786699      0.164826  0.0900236  0.744824 \n",
       " 0.971409   0.934759    0.843977      0.105587  0.0508684  0.479266 "
      ]
     },
     "execution_count": 3,
     "metadata": {},
     "output_type": "execute_result"
    }
   ],
   "source": [
    "test = nothing\n",
    "b = cat(dims=1, test, rand(32, 32,32))"
   ]
  }
 ],
 "metadata": {
  "kernelspec": {
   "display_name": "Julia 1.1.1",
   "language": "julia",
   "name": "julia-1.1"
  },
  "language_info": {
   "file_extension": ".jl",
   "mimetype": "application/julia",
   "name": "julia",
   "version": "1.1.1"
  }
 },
 "nbformat": 4,
 "nbformat_minor": 2
}
