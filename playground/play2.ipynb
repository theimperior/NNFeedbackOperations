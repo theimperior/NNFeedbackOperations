{
 "cells": [
  {
   "cell_type": "code",
   "execution_count": 5,
   "metadata": {},
   "outputs": [
    {
     "data": {
      "text/plain": [
       "31"
      ]
     },
     "execution_count": 5,
     "metadata": {},
     "output_type": "execute_result"
    }
   ],
   "source": [
    "input_size=(31,32)\n",
    "typeof(input_size)\n",
    "input_size[1]"
   ]
  },
  {
   "cell_type": "code",
   "execution_count": 8,
   "metadata": {},
   "outputs": [
    {
     "name": "stdout",
     "output_type": "stream",
     "text": [
      "rnn(2) = 2\n",
      "rnn(3) = 3\n",
      "rnn(4) = 4\n",
      "rnn.state = 9\n",
      "rnn.state = 64\n",
      "rnn(2) = 2\n",
      "rnn(3) = 3\n",
      "rnn(4) = 4\n",
      "rnn.state = 9\n"
     ]
    },
    {
     "data": {
      "text/plain": [
       "9"
      ]
     },
     "execution_count": 8,
     "metadata": {},
     "output_type": "execute_result"
    }
   ],
   "source": [
    "using Flux;\n",
    "\n",
    "accum(h, x) = (h+x, x)\n",
    "rnn = Flux.Recur(accum, 0)\n",
    "@show(rnn(2)) # 2\n",
    "@show(rnn(3)) # 3\n",
    "@show(rnn(4))\n",
    "@show(rnn.state) # 5\n",
    "rnn.(1:10) # apply to a sequence\n",
    "@show(rnn.state) # 60\n",
    "Flux.reset!(rnn)\n",
    "@show(rnn(2)) # 2\n",
    "@show(rnn(3)) # 3\n",
    "@show(rnn(4))\n",
    "@show(rnn.state) # 5"
   ]
  },
  {
   "cell_type": "code",
   "execution_count": 12,
   "metadata": {},
   "outputs": [
    {
     "name": "stderr",
     "output_type": "stream",
     "text": [
      "WARNING: redefining constant kernelsize\n"
     ]
    },
    {
     "data": {
      "text/plain": [
       "4"
      ]
     },
     "execution_count": 12,
     "metadata": {},
     "output_type": "execute_result"
    }
   ],
   "source": [
    "const kernelsize = (4, 3)\n",
    "kernelsize[1]"
   ]
  }
 ],
 "metadata": {
  "kernelspec": {
   "display_name": "Julia 1.1.1",
   "language": "julia",
   "name": "julia-1.1"
  },
  "language_info": {
   "file_extension": ".jl",
   "mimetype": "application/julia",
   "name": "julia",
   "version": "1.1.1"
  }
 },
 "nbformat": 4,
 "nbformat_minor": 2
}
