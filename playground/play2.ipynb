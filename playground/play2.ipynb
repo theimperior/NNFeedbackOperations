{
 "cells": [
  {
   "cell_type": "code",
   "execution_count": 5,
   "metadata": {},
   "outputs": [
    {
     "data": {
      "text/plain": [
       "31"
      ]
     },
     "execution_count": 5,
     "metadata": {},
     "output_type": "execute_result"
    }
   ],
   "source": [
    "input_size=(31,32)\n",
    "typeof(input_size)\n",
    "input_size[1]"
   ]
  },
  {
   "cell_type": "code",
   "execution_count": 5,
   "metadata": {},
   "outputs": [
    {
     "ename": "DimensionMismatch",
     "evalue": "DimensionMismatch(\"dimensions must match\")",
     "output_type": "error",
     "traceback": [
      "DimensionMismatch(\"dimensions must match\")",
      "",
      "Stacktrace:",
      " [1] promote_shape at .\\indices.jl:154 [inlined]",
      " [2] promote_shape at .\\indices.jl:145 [inlined]",
      " [3] + at .\\arraymath.jl:45 [inlined]",
      " [4] accum(::Array{Float64,1}, ::Array{Float64,1}) at .\\In[5]:3",
      " [5] (::Flux.Recur{typeof(accum)})(::Array{Float64,1}) at C:\\Users\\Sebastian Vendt\\.julia\\packages\\Flux\\qXNjB\\src\\layers\\recurrent.jl:36",
      " [6] loss(::Array{Float64,1}, ::Array{Float64,1}) at .\\In[5]:17",
      " [7] #15 at C:\\Users\\Sebastian Vendt\\.julia\\packages\\Flux\\qXNjB\\src\\optimise\\train.jl:72 [inlined]",
      " [8] gradient_(::getfield(Flux.Optimise, Symbol(\"##15#21\")){typeof(loss),Tuple{Array{Float64,1},Array{Float64,1}}}, ::Tracker.Params) at C:\\Users\\Sebastian Vendt\\.julia\\packages\\Tracker\\RRYy6\\src\\back.jl:97",
      " [9] #gradient#24(::Bool, ::Function, ::Function, ::Tracker.Params) at C:\\Users\\Sebastian Vendt\\.julia\\packages\\Tracker\\RRYy6\\src\\back.jl:164",
      " [10] gradient at C:\\Users\\Sebastian Vendt\\.julia\\packages\\Tracker\\RRYy6\\src\\back.jl:164 [inlined]",
      " [11] macro expansion at C:\\Users\\Sebastian Vendt\\.julia\\packages\\Flux\\qXNjB\\src\\optimise\\train.jl:71 [inlined]",
      " [12] macro expansion at C:\\Users\\Sebastian Vendt\\.julia\\packages\\Juno\\TfNYn\\src\\progress.jl:133 [inlined]",
      " [13] #train!#12(::getfield(Flux.Optimise, Symbol(\"##16#22\")), ::Function, ::Function, ::Tracker.Params, ::Array{Tuple{Array{Float64,1},Array{Float64,1}},1}, ::ADAM) at C:\\Users\\Sebastian Vendt\\.julia\\packages\\Flux\\qXNjB\\src\\optimise\\train.jl:69",
      " [14] train!(::Function, ::Tracker.Params, ::Array{Tuple{Array{Float64,1},Array{Float64,1}},1}, ::ADAM) at C:\\Users\\Sebastian Vendt\\.julia\\packages\\Flux\\qXNjB\\src\\optimise\\train.jl:67",
      " [15] top-level scope at In[5]:23"
     ]
    }
   ],
   "source": [
    "using Flux;\n",
    "\n",
    "accum(h, x) = (h+x, x)\n",
    "rnn = Flux.Recur(accum, rand(10))\n",
    "#@show(rnn(2)) # 2\n",
    "#@show(rnn(3)) # 3\n",
    "#@show(rnn(4))\n",
    "#@show(rnn.state) # 5\n",
    "#rnn.(1:10) # apply to a sequence\n",
    "#@show(rnn.state) # 60\n",
    "#Flux.reset!(rnn)\n",
    "#@show(rnn(2)) # 2\n",
    "#@show(rnn(3)) # 3\n",
    "#@show(rnn(4))\n",
    "#@show(rnn.state) # 5\n",
    "\n",
    "loss(x, y) = Flux.mse(rnn(x), y)\n",
    "ps = Flux.params(rnn)\n",
    "x = rand(784)\n",
    "y = rand(10)\n",
    "data = [(x, y), (x, y), (x, y)]\n",
    "opt = ADAM()\n",
    "Flux.train!(loss, ps, data, opt)\n"
   ]
  },
  {
   "cell_type": "code",
   "execution_count": 10,
   "metadata": {},
   "outputs": [
    {
     "ename": "MethodError",
     "evalue": "MethodError: no method matching acc(::Tuple{Int64,Int64}, ::Tuple{Int64,Int64}, ::Tuple{Int64,Int64})\nClosest candidates are:\n  acc(::Any, ::Any) at In[10]:2",
     "output_type": "error",
     "traceback": [
      "MethodError: no method matching acc(::Tuple{Int64,Int64}, ::Tuple{Int64,Int64}, ::Tuple{Int64,Int64})\nClosest candidates are:\n  acc(::Any, ::Any) at In[10]:2",
      "",
      "Stacktrace:",
      " [1] top-level scope at In[10]:3"
     ]
    }
   ],
   "source": [
    "x = [(1, 2), (3, 4), (5, 6)]\n",
    "acc(x, y) = @show(x) \n",
    "acc(x...)"
   ]
  },
  {
   "cell_type": "code",
   "execution_count": 30,
   "metadata": {},
   "outputs": [
    {
     "data": {
      "text/plain": [
       "0.5"
      ]
     },
     "execution_count": 30,
     "metadata": {},
     "output_type": "execute_result"
    }
   ],
   "source": [
    "using Flux: onecold\n",
    "using Statistics\n",
    "a = [0.2 0.2; 0.1 0.5; 0.2 0.2; 0.5 0.1]\n",
    "c = [1 0; 0 1; 0 0; 0 0]\n",
    "b = onecold(a)\n",
    "\n",
    "d = onecold(c)\n",
    "mean(onecold(a) .== onecold(c))"
   ]
  },
  {
   "cell_type": "code",
   "execution_count": 25,
   "metadata": {},
   "outputs": [
    {
     "data": {
      "text/plain": [
       "100"
      ]
     },
     "execution_count": 25,
     "metadata": {},
     "output_type": "execute_result"
    }
   ],
   "source": [
    "a = rand(32, 32, 32, 100)\n",
    "size(a, 4)"
   ]
  },
  {
   "cell_type": "code",
   "execution_count": 13,
   "metadata": {},
   "outputs": [
    {
     "name": "stdout",
     "output_type": "stream",
     "text": [
      "\"$(filepath)$(filename)\" = \"A:/digit1.mat\"\n",
      "\"$(filepath)$(filename)\" = \"A:/digit2.mat\"\n",
      "\"$(filepath)$(filename)\" = \"A:/digit3.mat\"\n",
      "\"$(filepath)$(filename)\" = \"A:/digit4.mat\"\n",
      "\"$(filepath)$(filename)\" = \"A:/digit5.mat\"\n",
      "\"$(filepath)$(filename)\" = \"A:/digit6.mat\"\n",
      "\"$(filepath)$(filename)\" = \"A:/digit7.mat\"\n",
      "\"$(filepath)$(filename)\" = \"A:/digit8.mat\"\n",
      "\"$(filepath)$(filename)\" = \"A:/digit9.mat\"\n",
      "\"$(filepath)$(filename)\" = \"A:/digit10.mat\"\n"
     ]
    }
   ],
   "source": [
    "function makebatch(filepath, filenames...)\n",
    "    for (i, filename) in enumerate(filenames)\n",
    "        @show(\"$filepath$filename\")\n",
    "    end\n",
    "end\n",
    "\n",
    "filenames = [\"digit\" * string(i) * \".mat\" for i in 1:10]\n",
    "makebatch(\"A:/\", filenames...)"
   ]
  }
 ],
 "metadata": {
  "kernelspec": {
   "display_name": "Julia 1.1.1",
   "language": "julia",
   "name": "julia-1.1"
  },
  "language_info": {
   "file_extension": ".jl",
   "mimetype": "application/julia",
   "name": "julia",
   "version": "1.1.1"
  }
 },
 "nbformat": 4,
 "nbformat_minor": 2
}
