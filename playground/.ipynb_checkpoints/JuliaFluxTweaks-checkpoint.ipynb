{
 "cells": [
  {
   "cell_type": "markdown",
   "metadata": {},
   "source": [
    "# Julia and FLUX Tweaks #\n",
    "\n",
    "## Conv Layer ##\n",
    "activation function: one can choose between relu, elu etc\n",
    "Padding: Only zero padding available, the number says how many zeros should be append on _both_ sides in this dimension\n",
    "(1,1) -> one zero each side in Dim 1 and Dim 2\n",
    "\n",
    "one can define a function and and calculate the gradient with Tracker.gradient w.r.t all parameters \n",
    "\n",
    "(tracked) is like a normal variable which keep track of its values so a gradient can be calculated\n",
    "\n",
    "(x) -> x + 2 is an anonymous function with arguments -> returnvalue\n",
    "\n",
    "I **assume** MaxPool(k) without stride automatically sets the stride to the kernelsize...\n",
    "\n",
    "# Data ordering # \n",
    "data is always ordered in the way width x height x channels x batches\n",
    "Having only one image with one channel and 1 sample in a batch -> **28x28x1x1** !!!!\n",
    "\n",
    "# ... slurping/splatting #\n",
    "... operator is used to combine many different arguments of a function into a single argument\n",
    "       "
   ]
  },
  {
   "cell_type": "code",
   "execution_count": null,
   "metadata": {},
   "outputs": [],
   "source": [
    "function printargs(args...)\n",
    "           println(typeof(args))\n",
    "           for (i, arg) in enumerate(args)\n",
    "               println(\"Arg #$i = $arg\")\n",
    "           end\n",
    "       end"
   ]
  },
  {
   "cell_type": "markdown",
   "metadata": {},
   "source": [
    "... splits one argument into many different arguments in function calls"
   ]
  },
  {
   "cell_type": "code",
   "execution_count": null,
   "metadata": {},
   "outputs": [],
   "source": [
    "x = [1, 2, 3]\n",
    "3-element Array{Int64,1}:\n",
    " 1\n",
    " 2\n",
    " 3\n",
    "\n",
    "threeargs(x...)"
   ]
  }
 ],
 "metadata": {
  "kernelspec": {
   "display_name": "Julia 1.1.1",
   "language": "julia",
   "name": "julia-1.1"
  },
  "language_info": {
   "file_extension": ".jl",
   "mimetype": "application/julia",
   "name": "julia",
   "version": "1.1.1"
  }
 },
 "nbformat": 4,
 "nbformat_minor": 2
}
