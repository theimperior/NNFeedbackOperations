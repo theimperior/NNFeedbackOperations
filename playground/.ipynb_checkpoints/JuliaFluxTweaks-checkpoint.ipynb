{
 "cells": [
  {
   "cell_type": "markdown",
   "metadata": {},
   "source": [
    "# Julia and FLUX Tweaks #\n",
    "\n",
    "## Conv Layer ##\n",
    "activation function: one can choose between relu, elu etc\n",
    "Padding: Only zero padding available, the number says how many zeros should be append on _both_ sides in this dimension\n",
    "(1,1) -> one zero each side in Dim 1 and Dim 2\n",
    "\n",
    "one can define a function and and calculate the gradient with Tracker.gradient w.r.t all parameters \n",
    "\n",
    "(tracked) is like a normal variable which keep track of its values so a gradient can be calculated\n",
    "\n",
    "(x) -> x + 2 is an anonymous function with arguments -> returnvalue\n",
    "\n",
    "I **assume** MaxPool(k) without stride automatically sets the stride to the kernelsize...\n",
    "\n",
    "# Data ordering # \n",
    "data is always ordered in the way width x height x channels x batches\n",
    "Having only one image with one channel and 1 sample in a batch -> **28x28x1x1** !!!!\n",
    "\n",
    "# ... slurping/splatting #\n",
    "... operator is used to combine many different arguments of a function into a single argument\n",
    "       "
   ]
  },
  {
   "cell_type": "code",
   "execution_count": null,
   "metadata": {},
   "outputs": [],
   "source": [
    "function printargs(args...)\n",
    "           println(typeof(args))\n",
    "           for (i, arg) in enumerate(args)\n",
    "               println(\"Arg #$i = $arg\")\n",
    "           end\n",
    "       end"
   ]
  },
  {
   "cell_type": "markdown",
   "metadata": {},
   "source": [
    "... splits one argument into many different arguments in function calls"
   ]
  },
  {
   "cell_type": "code",
   "execution_count": null,
   "metadata": {},
   "outputs": [],
   "source": [
    "x = [1, 2, 3]\n",
    "3-element Array{Int64,1}:\n",
    " 1\n",
    " 2\n",
    " 3\n",
    "\n",
    "threeargs(x...)"
   ]
  },
  {
   "cell_type": "code",
   "execution_count": null,
   "metadata": {},
   "outputs": [],
   "source": [
    "Array{Float32}(undef, 2, 3) # undef describes the way this array gets initialized"
   ]
  },
  {
   "cell_type": "markdown",
   "metadata": {},
   "source": [
    "# functions with ! #\n",
    "functions in julia with an exclamation mark modify their arguments (passed by sharing)\n"
   ]
  },
  {
   "cell_type": "markdown",
   "metadata": {},
   "source": [
    "# Printing... #\n",
    "print an array inside some code sections:\n",
    "\n",
    "display(train_set[1][2])"
   ]
  },
  {
   "cell_type": "markdown",
   "metadata": {},
   "source": [
    "# Problem with sum and Float32 #"
   ]
  },
  {
   "cell_type": "code",
   "execution_count": 4,
   "metadata": {},
   "outputs": [
    {
     "data": {
      "text/plain": [
       "Params([Float32[-0.321646 1.09565; 0.386825 0.830525] (tracked), Float32[0.0, 0.0] (tracked)])"
      ]
     },
     "metadata": {},
     "output_type": "display_data"
    },
    {
     "data": {
      "text/plain": [
       "Tracker.TrackedReal{Float64}"
      ]
     },
     "execution_count": 4,
     "metadata": {},
     "output_type": "execute_result"
    }
   ],
   "source": [
    "using LinearAlgebra\n",
    "using Flux\n",
    "m = Dense(2, 2)\n",
    "display(params(m))\n",
    "B = sum(norm, params(m))\n",
    "typeof(B)"
   ]
  },
  {
   "cell_type": "code",
   "execution_count": 11,
   "metadata": {},
   "outputs": [
    {
     "name": "stdout",
     "output_type": "stream",
     "text": [
      "test2"
     ]
    }
   ],
   "source": [
    "using Printf\n",
    "@printf(\"Test\\r\")\n",
    "sleep(1)\n",
    "@printf(\"test2\")"
   ]
  },
  {
   "cell_type": "markdown",
   "metadata": {},
   "source": [
    "# Length of the train_set (Array of tuples) #"
   ]
  },
  {
   "cell_type": "code",
   "execution_count": 14,
   "metadata": {},
   "outputs": [
    {
     "data": {
      "text/plain": [
       "3"
      ]
     },
     "execution_count": 14,
     "metadata": {},
     "output_type": "execute_result"
    }
   ],
   "source": [
    "t = [(1, 2), (3, 4), (2,3)]\n",
    "length(t)"
   ]
  },
  {
   "cell_type": "markdown",
   "metadata": {},
   "source": [
    "# using .flux vs. using ..flux #\n",
    "\n",
    "so one dot as a prefix looks in the namespace of the current module and two dots as prefix looks in the namespace of the parent module."
   ]
  },
  {
   "cell_type": "code",
   "execution_count": 1,
   "metadata": {},
   "outputs": [
    {
     "name": "stdout",
     "output_type": "stream",
     "text": [
      "batchsize = 20\n"
     ]
    },
    {
     "data": {
      "text/plain": [
       "20"
      ]
     },
     "execution_count": 1,
     "metadata": {},
     "output_type": "execute_result"
    }
   ],
   "source": [
    "batchsize = 0\n",
    "for i in 1:10\n",
    "    batchsize += 2\n",
    "end\n",
    "@show(batchsize)"
   ]
  }
 ],
 "metadata": {
  "kernelspec": {
   "display_name": "Julia 1.1.1",
   "language": "julia",
   "name": "julia-1.1"
  },
  "language_info": {
   "file_extension": ".jl",
   "mimetype": "application/julia",
   "name": "julia",
   "version": "1.1.1"
  }
 },
 "nbformat": 4,
 "nbformat_minor": 2
}
