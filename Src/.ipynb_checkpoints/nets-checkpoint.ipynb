{
 "cells": [
  {
   "cell_type": "code",
   "execution_count": 1,
   "metadata": {},
   "outputs": [
    {
     "name": "stdout",
     "output_type": "stream",
     "text": [
      "Constructing models...\n",
      "Reading .mat file form source ../digitclutter/digitclutter/50_4digits.mat\n",
      "calculate mean and standart deviation of dataset\n",
      "Creating batches\n",
      "Reading .mat file form source ../digitclutter/digitclutter/50_4digits.mat\n",
      "calculate mean and standart deviation of dataset\n",
      "Creating batches\n",
      "loaded 5 batches of size 10\n"
     ]
    },
    {
     "name": "stderr",
     "output_type": "stream",
     "text": [
      "┌ Info: Training BModel\n",
      "└ @ Main In[1]:118\n"
     ]
    },
    {
     "name": "stdout",
     "output_type": "stream",
     "text": [
      "Accuracy 0.200000 in epoch 1\n",
      "Accuracy 0.000000 in epoch 2\n",
      "Accuracy 0.000000 in epoch 3\n",
      "Accuracy 0.000000 in epoch 4\n",
      "Accuracy 0.000000 in epoch 5\n",
      "final accuracy: 0\n"
     ]
    },
    {
     "name": "stderr",
     "output_type": "stream",
     "text": [
      "┌ Info: Training BKModel\n",
      "└ @ Main In[1]:120\n"
     ]
    },
    {
     "name": "stdout",
     "output_type": "stream",
     "text": [
      "Accuracy 0.100000 in epoch 1\n",
      "Accuracy 0.000000 in epoch 2\n",
      "Accuracy 0.000000 in epoch 3\n",
      "Accuracy 0.000000 in epoch 4\n",
      "Accuracy 0.000000 in epoch 5\n",
      "final accuracy: 0\n"
     ]
    },
    {
     "name": "stderr",
     "output_type": "stream",
     "text": [
      "┌ Info: Training BFModel\n",
      "└ @ Main In[1]:122\n"
     ]
    },
    {
     "name": "stdout",
     "output_type": "stream",
     "text": [
      "Accuracy 0.400000 in epoch 1\n",
      "Accuracy 0.000000 in epoch 2\n",
      "Accuracy 0.000000 in epoch 3\n",
      "Accuracy 0.000000 in epoch 4\n",
      "Accuracy 0.000000 in epoch 5\n",
      "final accuracy: 0\n"
     ]
    },
    {
     "name": "stderr",
     "output_type": "stream",
     "text": [
      "┌ Info: Training BLModel\n",
      "└ @ Main In[1]:125\n"
     ]
    },
    {
     "name": "stdout",
     "output_type": "stream",
     "text": [
      "Accuracy 0.100000 in epoch 1\n",
      "Accuracy 0.000000 in epoch 2\n",
      "Accuracy 0.000000 in epoch 3\n",
      "Accuracy 0.000000 in epoch 4\n",
      "Accuracy 0.000000 in epoch 5\n",
      "final accuracy: 0\n"
     ]
    },
    {
     "name": "stderr",
     "output_type": "stream",
     "text": [
      "┌ Info: Training BTModel\n",
      "└ @ Main In[1]:127\n"
     ]
    },
    {
     "name": "stdout",
     "output_type": "stream",
     "text": [
      "Accuracy 0.000000 in epoch 1\n",
      "Accuracy 0.000000 in epoch 2\n",
      "Accuracy 0.000000 in epoch 3\n",
      "Accuracy 0.000000 in epoch 4\n",
      "Accuracy 0.000000 in epoch 5\n",
      "final accuracy: 0\n"
     ]
    },
    {
     "name": "stderr",
     "output_type": "stream",
     "text": [
      "┌ Info: Training BLTModel\n",
      "└ @ Main In[1]:129\n"
     ]
    },
    {
     "name": "stdout",
     "output_type": "stream",
     "text": [
      "Accuracy 0.000000 in epoch 1\n",
      "Accuracy 0.000000 in epoch 2\n",
      "Accuracy 0.000000 in epoch 3\n",
      "Accuracy 0.000000 in epoch 4\n",
      "Accuracy 0.000000 in epoch 5\n",
      "final accuracy: 0\n"
     ]
    }
   ],
   "source": [
    "\"\"\"\n",
    "Author: Sebastian Vendt, University of Ulm\n",
    "\n",
    "This script implements the four different neural networks proposed in the paper \n",
    "Recurrent Convolutional Neural Networks: A Better Model of Biological Object Recognition\n",
    "of Courtney J. Spoerer et al. \n",
    "\n",
    "BNet:  the bottom up network with two hidden convolutional layers\n",
    "BLNet: the BNet including lateral connections within the hidden layers\n",
    "BTNet: the BNet including top down connections from the second hidden layer to the first\n",
    "BLTNet:the BNet including top down and lateral connections \n",
    "\n",
    "\"\"\"\n",
    "\n",
    "using Flux, Statistics\n",
    "using Flux: crossentropy, onecold\n",
    "using Printf, BSON\n",
    "import LinearAlgebra: norm\n",
    "using NNlib\n",
    "using FeedbackConvNets\n",
    "\n",
    "include(\"./dataManager.jl\")\n",
    "using .dataManager: make_batch\n",
    "\n",
    "using Base\n",
    "norm(x::TrackedArray{T}) where T = sqrt(sum(abs2.(x)) + eps(T)) \n",
    "\n",
    "######################\n",
    "# PARAMETERS\n",
    "######################\n",
    "const batch_size = 100\n",
    "const momentum = 0.9f0\n",
    "const lambda = 0.0005f0\n",
    "init_learning_rate = 0.01f0\n",
    "learning_rate = init_learning_rate\n",
    "const epochs = 5\n",
    "const decay_rate = 0.1f0\n",
    "const decay_step = 40\n",
    "# number of timesteps the network is unrolled\n",
    "const time_steps = 4\n",
    "# end of PARAMETERS\n",
    "\n",
    "hidden = Dict(\n",
    "    \"l1\" => zeros(Float32, 32, 32, 32, 10),\n",
    "    \"l2\" => zeros(Float32, 16, 16, 32, 10)\n",
    "    )\n",
    "\n",
    "function adapt_learnrate(epoch_idx)\n",
    "    return init_learning_rate * decay_rate^(epoch_idx / decay_step)\n",
    "end\n",
    "\n",
    "function trainReccurentNet(reccurent_model, train_set, test_set)\n",
    "    function loss(x, y)\n",
    "        loss_val = 0.0f0\n",
    "        for i in 1:time_steps\n",
    "            loss_val += crossentropy(reccurent_model(x), y) + lambda * sum(norm, params(reccurent_model))\n",
    "        end\n",
    "        Flux.reset!(reccurent_model)\n",
    "        return loss_val\n",
    "    end\n",
    "    \n",
    "    function accuracy(test_set::Tuple)\n",
    "        for i in 1:time_steps-1\n",
    "            y_hat = reccurent_model(test_set[1])\n",
    "        end\n",
    "        acc = mean(onecold(reccurent_model(test_set[1])) .== onecold(test_set[2]))\n",
    "        Flux.reset!(reccurent_model)\n",
    "        return acc\n",
    "    end\n",
    "    \n",
    "    opt = Momentum(learning_rate, momentum)\n",
    "    for i in 1:epochs\n",
    "        Flux.train!(loss, params(reccurent_model), train_set, opt)\n",
    "        opt.eta = adapt_learnrate(i)\n",
    "        acc = accuracy(test_set)\n",
    "        @printf(\"Accuracy %f in epoch %d\\n\", acc, i)\n",
    "        flush(Base.stdout)\n",
    "    end\n",
    "    @printf(\"final accuracy: %d\\n\", accuracy(test_set))\n",
    "end\n",
    "\n",
    "function trainFeedforwardNet(feedforward_model, train_set, test_set)\n",
    "    function accuracy(test_set::Tuple)\n",
    "        return mean(onecold(feedforward_model(test_set[1])) .== onecold(test_set[2]))\n",
    "    end\n",
    "    \n",
    "    opt = Momentum(learning_rate, momentum)\n",
    "    for i in 1:epochs\n",
    "        Flux.train!((x, y) -> crossentropy(feedforward_model(x), y) + lambda * sum(norm, params(feedforward_model)), \n",
    "            params(feedforward_model), train_set, opt)\n",
    "        opt.eta = adapt_learnrate(i)\n",
    "        acc = accuracy(test_set)\n",
    "        @printf(\"Accuracy %f in epoch %d\\n\", acc, i)\n",
    "        flush(Base.stdout)\n",
    "    end\n",
    "    @printf(\"final accuracy: %d\\n\", accuracy(test_set))\n",
    "end\n",
    "\n",
    "@printf(\"Constructing models...\\n\")\n",
    "BModel = spoerer_model_b(Float32, inputsize=(32, 32))\n",
    "BKModel = spoerer_model_bk(Float32, inputsize=(32, 32))\n",
    "BFModel = spoerer_model_bf(Float32, inputsize=(32, 32))\n",
    "BLChain = spoerer_model_bl(Float32, inputsize=(32, 32), kernel=(3, 3), features=32)\n",
    "BTChain = spoerer_model_bt(Float32, inputsize=(32, 32), kernel=(3, 3), features=32)\n",
    "BLTChain = spoerer_model_bt(Float32, inputsize=(32, 32), kernel=(3, 3), features=32)\n",
    "\n",
    "BLModel = Flux.Recur(BLChain, hidden)\n",
    "BTModel = Flux.Recur(BTChain, hidden)\n",
    "BLTModel = Flux.Recur(BLTChain, hidden)\n",
    "\n",
    "\n",
    "train_set, mean_img, std_img = make_batch(\"../digitclutter/digitclutter/50_4digits.mat\", batch_size=10)\n",
    "# test_set needs to have the same batchsize as the train_set due to model state init\n",
    "test_set, temp1, temp2 = make_batch(\"../digitclutter/digitclutter/50_4digits.mat\", batch_size=10)\n",
    "\n",
    "@printf(\"loaded %d batches of size %d\\n\", length(train_set), size(train_set[1][1], 4))\n",
    "\n",
    "@info(\"Training BModel\\n\")\n",
    "# trainFeedforwardNet(BModel, train_set, test_set[1])\n",
    "@info(\"Training BKModel\\n\")\n",
    "# trainFeedforwardNet(BKModel, train_set, test_set[1])\n",
    "@info(\"Training BFModel\\n\")\n",
    "# trainFeedforwardNet(BFModel, train_set, test_set[1])\n",
    "\n",
    "@info(\"Training BLModel\\n\")\n",
    "trainReccurentNet(BLModel, train_set, test_set[1])\n",
    "@info(\"Training BTModel\\n\")\n",
    "trainReccurentNet(BTModel, train_set, test_set[1])\n",
    "@info(\"Training BLTModel\\n\")\n",
    "trainReccurentNet(BLTModel, train_set, test_set[1])\n",
    "\n",
    "\n"
   ]
  }
 ],
 "metadata": {
  "kernelspec": {
   "display_name": "Julia 1.1.1",
   "language": "julia",
   "name": "julia-1.1"
  },
  "language_info": {
   "file_extension": ".jl",
   "mimetype": "application/julia",
   "name": "julia",
   "version": "1.1.1"
  }
 },
 "nbformat": 4,
 "nbformat_minor": 2
}
