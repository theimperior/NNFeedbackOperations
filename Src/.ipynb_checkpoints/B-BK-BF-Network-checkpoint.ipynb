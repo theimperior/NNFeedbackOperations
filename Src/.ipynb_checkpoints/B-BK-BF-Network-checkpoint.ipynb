{
 "cells": [
  {
   "cell_type": "code",
   "execution_count": 1,
   "metadata": {},
   "outputs": [],
   "source": [
    "include(\"./dataManager.jl\")\n",
    "\n",
    "# Implementation of the Bottom Up Network with two Subversions: \n",
    "# BK with different Kernelsize and BF with different feature size\n",
    "using Flux, Statistics\n",
    "using Flux: onehot, onehotbatch, onecold, crossentropy, throttle\n",
    "using Base.Iterators: repeated, partition\n",
    "using Printf, BSON\n",
    "import LinearAlgebra: norm\n",
    "using NNlib\n",
    "\n",
    "using MAT # needs installation of Pkg.add(\"MAT\")\n",
    "using PyPlot # pip install Matplotlib Pkg.add(\"PyPlot\")\n",
    "using ..dataManager: make_batch\n",
    "using Base\n",
    "\n",
    "using ProgressMeter\n",
    "using Printf\n",
    "\n",
    "norm(x::TrackedArray{T}) where T = sqrt(sum(abs2.(x)) + eps(T)) \n",
    ";"
   ]
  },
  {
   "cell_type": "code",
   "execution_count": 2,
   "metadata": {},
   "outputs": [],
   "source": [
    "# PARAMETERS\n",
    "# ----------\n",
    "const batch_size = 100\n",
    "const n = 5\n",
    "const c = 1\n",
    "const alpha = Float32(10^-4)\n",
    "const beta = 0.5f0\n",
    "const lambda = 0.0005f0\n",
    "\n",
    "const kernelsize = (3, 3)\n",
    "const featuresize = 32\n",
    "\n",
    "const momentum = 0.9f0\n",
    "init_learning_rate = 0.01f0\n",
    "learning_rate = init_learning_rate\n",
    "const epochs = 100\n",
    "const decay_rate = 0.1f0\n",
    "const decay_step = 40\n",
    "const fc_output_units = 10\n",
    "const input_size=(32,32) # Width x Height\n",
    "\n",
    "train_idx = 1\n",
    "epoch_idx = 1\n",
    ";"
   ]
  },
  {
   "cell_type": "code",
   "execution_count": 3,
   "metadata": {},
   "outputs": [
    {
     "name": "stdout",
     "output_type": "stream",
     "text": [
      "Constructing model...\n"
     ]
    }
   ],
   "source": [
    "@printf(\"Constructing model...\\n\")\n",
    "model = Chain(\n",
    "    # HIDDEN LAYER 1\n",
    "    # Input Image 32x32x1xN\n",
    "    Conv(kernelsize, 1=>featuresize, pad=(1,1), relu),\n",
    "    # local response normalization\n",
    "    x -> localResponseNorm(x),\n",
    "    MaxPool((2, 2), stride=(2, 2)),\n",
    "    \n",
    "    # HIDDEN LAYER 2\n",
    "    # Input Image 16x16x32xN\n",
    "    Conv(kernelsize, featuresize=>featuresize, pad=(1,1), relu),\n",
    "    # local response normalization\n",
    "    x -> localResponseNorm(x),\n",
    "    MaxPool((Int64(input_size[1] / 2), Int64(input_size[2] / 2)), stride=(1, 1)),\n",
    "    # reshape to 32xN\n",
    "    x -> reshape(x, :, size(x, 4)),\n",
    "    Dense(featuresize, fc_output_units, σ),\n",
    ")\n",
    ";"
   ]
  },
  {
   "cell_type": "code",
   "execution_count": 4,
   "metadata": {},
   "outputs": [],
   "source": [
    "# Input is either 32x32x32xN or 16x16x32xN\n",
    "function localResponseNorm(x)\n",
    "    w = zeros(Float32, size(x))\n",
    "    for k = 1:size(x,3)\n",
    "        # calculate the boundaries of the sum\n",
    "        lower = Int32(max(1, floor(k-n/2)))\n",
    "        upper = Int32(min(size(x,3), floor(k+n/2)))\n",
    "        \n",
    "        # square and sum \n",
    "        # w = map((x) -> x^2, x[:, :, lower:upper, :])\n",
    "        norm = Tracker.data(x[:, :, lower:upper, :])\n",
    "        norm = norm .^ 2\n",
    "        # reduce to one 32x32x1xN or 16x16x1xN matrix\n",
    "        norm = sum(norm, dims=3)\n",
    "        norm = norm .* alpha\n",
    "        norm = norm .+ c\n",
    "        norm = norm .^ (-beta)\n",
    "        w[:, :, k, :] = norm\n",
    "    end   \n",
    "    # a tracked array multiplied with a non tracked array returns a tracked array  \n",
    "    x = w .* x\n",
    "    return x\n",
    "end\n",
    "\n",
    "function loss(x, y)\n",
    "    y_hat = model(x)\n",
    "    return crossentropy(y_hat, y) + lambda * sum(norm, params(model))\n",
    "end\n",
    "\n",
    "# gets called after every batch (learning step)\n",
    "function train_cb()\n",
    "    global train_idx = train_idx + 1\n",
    "    global p_bar\n",
    "    # somehow showing values doesn't work\n",
    "    next!(p_bar)#; showvalues = [(:train_idx, train_idx), (:epoch_idx, epoch_idx)])\n",
    "end\n",
    "\n",
    "function adapt_learning_rate(epoch_idx)\n",
    "    return init_learning_rate * decay_rate^(epoch_idx / decay_step)\n",
    "end\n",
    ";"
   ]
  },
  {
   "cell_type": "code",
   "execution_count": 5,
   "metadata": {},
   "outputs": [
    {
     "name": "stdout",
     "output_type": "stream",
     "text": [
      "Reading .mat file form source ../digitclutter/src/light_debris/light_debris_with_debris.mat\n",
      "calculate mean and standart deviation of dataset\n",
      "Creating batches\n",
      "Beginn training\n",
      "\r"
     ]
    },
    {
     "name": "stderr",
     "output_type": "stream",
     "text": [
      "\u001b[32mProgress: 100%|█████████████████████████████████████████| Time: 0:01:18\u001b[39m9mm39m9mm39m\n"
     ]
    }
   ],
   "source": [
    "# get the dataset\n",
    "train_set, mean_img, std_img = make_batch(batch_size=batch_size)\n",
    "batches = length(train_set)\n",
    "model(train_set[1][1])\n",
    "\n",
    "opt = Momentum(learning_rate, momentum)\n",
    "\n",
    "# training loop\n",
    "p_bar = Progress(epochs * batches, 1)\n",
    "@printf(\"Beginn training\\n\")\n",
    "for i in 1:epochs\n",
    "    # @printf(\"Training epoch %d of %d\\r\", epoch_idx, epochs)\n",
    "    Flux.train!(loss, params(model), train_set, opt, cb = train_cb)\n",
    "    opt.eta = adapt_learning_rate(epoch_idx)\n",
    "    global epoch_idx = epoch_idx + 1\n",
    "    global train_idx = 1\n",
    "end"
   ]
  },
  {
   "cell_type": "code",
   "execution_count": null,
   "metadata": {},
   "outputs": [],
   "source": []
  }
 ],
 "metadata": {
  "kernelspec": {
   "display_name": "Julia 1.1.1",
   "language": "julia",
   "name": "julia-1.1"
  },
  "language_info": {
   "file_extension": ".jl",
   "mimetype": "application/julia",
   "name": "julia",
   "version": "1.1.1"
  }
 },
 "nbformat": 4,
 "nbformat_minor": 2
}
