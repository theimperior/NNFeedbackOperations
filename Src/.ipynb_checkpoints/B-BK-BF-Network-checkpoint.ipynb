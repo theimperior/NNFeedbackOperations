{
 "cells": [
  {
   "cell_type": "code",
   "execution_count": 10,
   "metadata": {},
   "outputs": [],
   "source": [
    "# Implementation of the Bottom Up Network with two Subversions: \n",
    "# BK with different Kernelsize and BF with different feature size\n",
    "using Flux, Flux.Data.MNIST, Statistics\n",
    "using Flux: onehotbatch, onecold, crossentropy, throttle\n",
    "using Base.Iterators: repeated, partition\n",
    "using Printf, BSON"
   ]
  },
  {
   "cell_type": "code",
   "execution_count": 41,
   "metadata": {},
   "outputs": [
    {
     "data": {
      "text/plain": [
       "localResponseNorm (generic function with 1 method)"
      ]
     },
     "execution_count": 41,
     "metadata": {},
     "output_type": "execute_result"
    }
   ],
   "source": [
    "n = 5\n",
    "c = 1\n",
    "alpha = 10^-4\n",
    "beta = 0.5\n",
    "\n",
    "# Input is either 32x32x32xN or 16x16x32xN\n",
    "function localResponseNorm(x)\n",
    "    for k = 1:size(x,3)\n",
    "        # calculate the boundaries of the sum\n",
    "        # ATTENTION: this will sum n+1 Elements\n",
    "        lower = Int32(max(1, round(k-n/2)))\n",
    "        upper = Int32(min(size(x,3), round(k+n/2)))\n",
    "        \n",
    "        # square and sum \n",
    "        # w = map((x) -> x^2, x[:, :, lower:upper, :])\n",
    "        w = x[:, :, lower:upper, :]\n",
    "        w = w .^ 2\n",
    "        # reduce to one 32x32x1xN or 16x16x1xN matrix\n",
    "        w = Tracker.data(w)\n",
    "        w = sum(w, 3)\n",
    "        w = w .* alpha\n",
    "        w = w .+ c\n",
    "        w = w .^ (-beta)\n",
    "        w = w .* x[:, :, k, :]\n",
    "    end\n",
    "   \n",
    "    return w\n",
    "end"
   ]
  },
  {
   "cell_type": "code",
   "execution_count": 42,
   "metadata": {},
   "outputs": [
    {
     "name": "stderr",
     "output_type": "stream",
     "text": [
      "┌ Info: Constructing model...\n",
      "└ @ Main In[42]:6\n"
     ]
    },
    {
     "ename": "MethodError",
     "evalue": "MethodError: objects of type Array{Float64,4} are not callable\nUse square brackets [] for indexing an Array.",
     "output_type": "error",
     "traceback": [
      "MethodError: objects of type Array{Float64,4} are not callable\nUse square brackets [] for indexing an Array.",
      "",
      "Stacktrace:",
      " [1] mapreduce_first(::Array{Float64,4}, ::Function, ::Int64) at .\\reduce.jl:297",
      " [2] mapreduce(::Array{Float64,4}, ::Function, ::Int64) at .\\reduce.jl:324",
      " [3] sum(::Array{Float64,4}, ::Int64) at .\\reduce.jl:399",
      " [4] localResponseNorm(::TrackedArray{…,Array{Float64,4}}) at .\\In[41]:20",
      " [5] #89 at .\\In[42]:12 [inlined]",
      " [6] applychain(::Tuple{getfield(Main, Symbol(\"##89#92\")),MaxPool{2,4},Conv{2,2,typeof(relu),TrackedArray{…,Array{Float32,4}},TrackedArray{…,Array{Float32,1}}},getfield(Main, Symbol(\"##90#93\")),MaxPool{2,4},getfield(Main, Symbol(\"##91#94\")),Dense{typeof(σ),TrackedArray{…,Array{Float32,2}},TrackedArray{…,Array{Float32,1}}}}, ::TrackedArray{…,Array{Float64,4}}) at C:\\Users\\Sebastian Vendt\\.julia\\packages\\Flux\\qXNjB\\src\\layers\\basic.jl:31 (repeats 2 times)",
      " [7] (::Chain{Tuple{Conv{2,2,typeof(relu),TrackedArray{…,Array{Float32,4}},TrackedArray{…,Array{Float32,1}}},getfield(Main, Symbol(\"##89#92\")),MaxPool{2,4},Conv{2,2,typeof(relu),TrackedArray{…,Array{Float32,4}},TrackedArray{…,Array{Float32,1}}},getfield(Main, Symbol(\"##90#93\")),MaxPool{2,4},getfield(Main, Symbol(\"##91#94\")),Dense{typeof(σ),TrackedArray{…,Array{Float32,2}},TrackedArray{…,Array{Float32,1}}}}})(::Array{Float64,4}) at C:\\Users\\Sebastian Vendt\\.julia\\packages\\Flux\\qXNjB\\src\\layers\\basic.jl:33",
      " [8] top-level scope at In[42]:25"
     ]
    }
   ],
   "source": [
    "# Parameters\n",
    "kernelsize = (3, 3)\n",
    "featuresize = 32\n",
    "\n",
    "\n",
    "@info(\"Constructing model...\")\n",
    "model = Chain(\n",
    "    # HIDDEN LAYER 1\n",
    "    # Input Image 32x32x1xN\n",
    "    Conv(kernelsize, 1=>featuresize, pad=(1,1), relu),\n",
    "    # local response normalization\n",
    "    x -> localResponseNorm(x),\n",
    "    MaxPool((2, 2), stride=(2, 2)),\n",
    "    \n",
    "    # HIDDEN LAYER 2\n",
    "    # Input Image 16x16x32xN\n",
    "    Conv(kernelsize, featuresize=>featuresize, pad=(1,1), relu),\n",
    "    # local response normalization\n",
    "    x -> localResponseNorm(x),\n",
    "    MaxPool((16, 16), stride=(1, 1)),\n",
    "    # reshape to 32xN\n",
    "    x -> reshape(x, :, size(x, 4)),\n",
    "    Dense(32, 10, σ),\n",
    ")\n",
    "\n",
    "# test the model\n",
    "model(rand(32, 32, 1, 1))"
   ]
  }
 ],
 "metadata": {
  "kernelspec": {
   "display_name": "Julia 1.1.1",
   "language": "julia",
   "name": "julia-1.1"
  },
  "language_info": {
   "file_extension": ".jl",
   "mimetype": "application/julia",
   "name": "julia",
   "version": "1.1.1"
  }
 },
 "nbformat": 4,
 "nbformat_minor": 2
}
