{
 "cells": [
  {
   "cell_type": "code",
   "execution_count": 9,
   "metadata": {},
   "outputs": [
    {
     "name": "stdout",
     "output_type": "stream",
     "text": [
      "Constructing model...\n"
     ]
    },
    {
     "name": "stderr",
     "output_type": "stream",
     "text": [
      "WARNING: replacing module dataManager.\n",
      "WARNING: ignoring conflicting import of dataManager.make_batch into Main\n"
     ]
    },
    {
     "data": {
      "text/plain": [
       "FeedbackChain{Tuple{Merger{Conv{2,2,typeof(identity),TrackedArray{…,Array{Float32,4}},TrackedArray{…,Array{Float32,1}}},typeof(+)},Conv{2,2,typeof(relu),TrackedArray{…,Array{Float32,4}},TrackedArray{…,Array{Float32,1}}},getfield(Main, Symbol(\"##51#54\")),Forker,MaxPool{2,4},Merger{Conv{2,2,typeof(identity),TrackedArray{…,Array{Float32,4}},TrackedArray{…,Array{Float32,1}}},typeof(+)},Conv{2,2,typeof(relu),TrackedArray{…,Array{Float32,4}},TrackedArray{…,Array{Float32,1}}},getfield(Main, Symbol(\"##52#55\")),Forker,MaxPool{2,4},getfield(Main, Symbol(\"##53#56\")),Dense{typeof(σ),TrackedArray{…,Array{Float32,2}},TrackedArray{…,Array{Float32,1}}}}}((Merger{Conv{2,2,typeof(identity),TrackedArray{…,Array{Float32,4}},TrackedArray{…,Array{Float32,1}}},typeof(+)}(\"lateral_1\", Conv((3, 3), 32=>1), +), Conv((3, 3), 1=>32, NNlib.relu), getfield(Main, Symbol(\"##51#54\"))(), Forker(\"lateral_1\"), MaxPool((2, 2), pad = (0, 0, 0, 0), stride = (2, 2)), Merger{Conv{2,2,typeof(identity),TrackedArray{…,Array{Float32,4}},TrackedArray{…,Array{Float32,1}}},typeof(+)}(\"lateral_2\", Conv((3, 3), 32=>32), +), Conv((3, 3), 32=>32, NNlib.relu), getfield(Main, Symbol(\"##52#55\"))(), Forker(\"lateral_2\"), MaxPool((16, 16), pad = (0, 0, 0, 0), stride = (1, 1)), getfield(Main, Symbol(\"##53#56\"))(), Dense(32, 10, NNlib.σ)))"
      ]
     },
     "execution_count": 9,
     "metadata": {},
     "output_type": "execute_result"
    }
   ],
   "source": [
    "\"\"\"\n",
    "Author: Sebastian Vendt, University of Ulm\n",
    "\n",
    "This is part of the implementation of the four different neural networks proposed in the paper \n",
    "Recurrent Convolutional Neural Networks: A Better Model of Biological Object Recognition\n",
    "of Courtney J. Spoerer et al. \n",
    "\n",
    "This script implements the bottom up convolutional network including lateral connections in the two hidden layers\n",
    "\n",
    "\"\"\"\n",
    "\n",
    "include(\"./dataManager.jl\")\n",
    "using Flux, Statistics\n",
    "using Flux: onehot, onehotbatch, onecold, crossentropy, throttle\n",
    "using Base.Iterators: repeated, partition\n",
    "using Printf, BSON\n",
    "import LinearAlgebra: norm\n",
    "using NNlib\n",
    "using FeedbackConvNets\n",
    "\n",
    "using MAT # needs installation of Pkg.add(\"MAT\")\n",
    "using PyPlot # pip install Matplotlib Pkg.add(\"PyPlot\")\n",
    "using ..dataManager: make_batch\n",
    "using Base\n",
    "\n",
    "using ProgressMeter\n",
    "using Printf\n",
    "using Test\n",
    "using Pkg\n",
    "\n",
    "norm(x::TrackedArray{T}) where T = sqrt(sum(abs2.(x)) + eps(T)) \n",
    "\n",
    "\n",
    "# PARAMETERS\n",
    "const batch_size = 100\n",
    "const n = 5\n",
    "const c = 1\n",
    "const alpha = Float32(10^-4)\n",
    "const beta = 0.5f0\n",
    "const lambda = 0.0005f0\n",
    "\n",
    "const kernelsize = (3, 3)\n",
    "const featuresize = 32\n",
    "\n",
    "const padding = (Int64(floor(kernelsize[1]/2)), Int64(floor(kernelsize[2]/2)))\n",
    "const momentum = 0.9f0\n",
    "init_learning_rate = 0.01f0\n",
    "learning_rate = init_learning_rate\n",
    "const epochs = 100\n",
    "const decay_rate = 0.1f0\n",
    "const decay_step = 40\n",
    "const fc_output_units = 10\n",
    "const input_size=(32,32) # Width x Height\n",
    "# end of PARAMETERS\n",
    "\n",
    "train_idx = 1\n",
    "epoch_idx = 1\n",
    "\n",
    "@printf(\"Constructing model...\\n\")\n",
    "chain = FeedbackChain(\n",
    "    # HIDDEN LAYER 1\n",
    "    # Input Image 32x32x1xN\n",
    "    Merger(\"lateral_1\", Conv(kernelsize, featuresize=>1, pad=padding, identity), +),\n",
    "    Conv(kernelsize, 1=>featuresize, pad=padding, relu),\n",
    "    x -> localResponseNorm(x),\n",
    "    Forker(\"lateral_1\"),\n",
    "    \n",
    "    MaxPool((2, 2), stride=(2, 2)),\n",
    "    \n",
    "    # HIDDEN LAYER 2\n",
    "    # Input Image 16x16x32xN\n",
    "    Merger(\"lateral_2\", Conv(kernelsize, featuresize=>featuresize, pad=padding, identity), +),\n",
    "    Conv(kernelsize, featuresize=>featuresize, pad=padding, relu),\n",
    "    x -> localResponseNorm(x),\n",
    "    Forker(\"lateral_2\"),\n",
    "    MaxPool((Int64(input_size[1] / 2), Int64(input_size[2] / 2)), stride=(1, 1)),\n",
    "    # reshape to 32xN\n",
    "    x -> reshape(x, :, size(x, 4)),\n",
    "    Dense(featuresize, fc_output_units, σ),\n",
    ")\n",
    "\n",
    "\n",
    "\n"
   ]
  }
 ],
 "metadata": {
  "kernelspec": {
   "display_name": "Julia 1.1.1",
   "language": "julia",
   "name": "julia-1.1"
  },
  "language_info": {
   "file_extension": ".jl",
   "mimetype": "application/julia",
   "name": "julia",
   "version": "1.1.1"
  }
 },
 "nbformat": 4,
 "nbformat_minor": 2
}
