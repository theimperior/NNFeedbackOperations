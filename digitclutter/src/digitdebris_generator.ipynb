{
 "cells": [
  {
   "cell_type": "code",
   "execution_count": 3,
   "metadata": {},
   "outputs": [
    {
     "name": "stderr",
     "output_type": "stream",
     "text": [
      "\r",
      "                                                                               \r",
      "\r",
      "N/A% (0 of 50) |                         | Elapsed Time: 0:00:00 ETA:  --:--:--"
     ]
    },
    {
     "name": "stdout",
     "output_type": "stream",
     "text": [
      "Rendering images...\n"
     ]
    },
    {
     "name": "stderr",
     "output_type": "stream",
     "text": [
      "100% (50 of 50) |########################| Elapsed Time: 0:00:17 ETA:  00:00:00"
     ]
    },
    {
     "name": "stdout",
     "output_type": "stream",
     "text": [
      "Saving mat file...\n",
      "Using C:\\Users\\Sebastian Vendt\\Git\\NNFeedbackOperations\\digitclutter\\src\\temp_workspace as the working directory\n",
      "Resizing the images\n",
      "Generating image arrays\n",
      "Generating target arrays\n",
      "Images and target arrays saved to C:\\Users\\Sebastian Vendt\\Git\\NNFeedbackOperations\\digitclutter\\digitdebris\\50_10_no_debris.mat\n",
      "Using C:\\Users\\Sebastian Vendt\\Git\\NNFeedbackOperations\\digitclutter\\src\\temp_workspace as the working directory\n",
      "Done. Images saved at C:\\Users\\Sebastian Vendt\\Git\\NNFeedbackOperations\\digitclutter\\digitdebris\\50_10debris.mat\n"
     ]
    }
   ],
   "source": [
    "import sys\n",
    "sys.path.append('../')\n",
    "import platform\n",
    "from os.path import abspath\n",
    "from digitclutter import generate, io\n",
    "from scipy.io import savemat\n",
    "import progressbar\n",
    "\n",
    "'''\n",
    "Generates an image set with the same statistics and the light debris data set describred here\n",
    "(https://doi.org/10.1101/133330s)\n",
    "'''\n",
    "\n",
    "#------CONFIGURATION------\n",
    "# Dataset 100.000 Training samples, 10.000 Validation samples, 10.000 Test samples\n",
    "# Warning: 100.000 images result in 75GB of images...\n",
    "n_samples = 50\n",
    "\n",
    "#number of fragments present in each image (10, 30, 50)\n",
    "n_debris = [10, 11]\n",
    "#n_debris = [30, 31]\n",
    "#n_debris = [50, 51]\n",
    "\n",
    "\n",
    "font_set = ['arial-bold']\n",
    "\n",
    "# Generate samples\n",
    "clutter_list = [generate.sample_clutter(font_set=font_set) for i in range(n_samples)]\n",
    "\n",
    "# Save image set\n",
    "clutter_list = io.name_files('../digitdebris/' + str(n_debris[0]) + 'debris', clutter_list=clutter_list)\n",
    "io.save_image_set(clutter_list, '../digitdebris/' + str(n_samples) + '_' + str(n_debris[0]) + 'debris.csv')\n",
    "\n",
    "# Render images and save as mat file\n",
    "print('Rendering images...')\n",
    "sys.stdout.flush()\n",
    "\n",
    "bar = progressbar.ProgressBar(maxval=len(clutter_list))\n",
    "bar.start()\n",
    "for i, cl in enumerate(clutter_list):\n",
    "    cl.render_occlusion()\n",
    "    bar.update(i+1)\n",
    "print('Saving mat file...')\n",
    "fname_list = [cl.fname for cl in clutter_list]\n",
    "images_dict = io.save_images_as_mat(abspath('../digitdebris/' + str(n_samples) + '_' + str(n_debris[0]) + '_no_debris.mat'), \n",
    "                                    clutter_list, (32,32), fname_list=fname_list, delete_bmps=True, overwrite_wdir=True)\n",
    "\n",
    "# Make debris \n",
    "debris_array = generate.make_debris(n_samples, n_debris=n_debris, font_set=font_set)\n",
    "images_with_debris = generate.add_debris(images_dict['images'], debris_array)\n",
    "\n",
    "images_with_debris_dict = {\n",
    "    'images':images_with_debris,\n",
    "    'targets':images_dict['targets'],\n",
    "    'binary_targets':images_dict['binary_targets']\n",
    "    }\n",
    "savemat('../digitdebris/' + str(n_samples) + '_' + str(n_debris[0]) + 'debris.mat', images_with_debris_dict)\n",
    "print('Done. Images saved at {0}'.format(abspath('../digitdebris/' + str(n_samples) + '_' + str(n_debris[0]) + 'debris.mat')))\n"
   ]
  }
 ],
 "metadata": {
  "kernelspec": {
   "display_name": "Python 3",
   "language": "python",
   "name": "python3"
  },
  "language_info": {
   "codemirror_mode": {
    "name": "ipython",
    "version": 3
   },
   "file_extension": ".py",
   "mimetype": "text/x-python",
   "name": "python",
   "nbconvert_exporter": "python",
   "pygments_lexer": "ipython3",
   "version": "3.6.5"
  }
 },
 "nbformat": 4,
 "nbformat_minor": 2
}
