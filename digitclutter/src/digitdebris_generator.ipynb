{
 "cells": [
  {
   "cell_type": "code",
   "execution_count": 1,
   "metadata": {},
   "outputs": [
    {
     "ename": "ModuleNotFoundError",
     "evalue": "No module named 'numpy'",
     "output_type": "error",
     "traceback": [
      "\u001b[0;31m---------------------------------------------------------------------------\u001b[0m",
      "\u001b[0;31mModuleNotFoundError\u001b[0m                       Traceback (most recent call last)",
      "\u001b[0;32m<ipython-input-1-f6a7b4fb35ce>\u001b[0m in \u001b[0;36m<module>\u001b[0;34m\u001b[0m\n\u001b[1;32m      3\u001b[0m \u001b[0;32mimport\u001b[0m \u001b[0mplatform\u001b[0m\u001b[0;34m\u001b[0m\u001b[0;34m\u001b[0m\u001b[0m\n\u001b[1;32m      4\u001b[0m \u001b[0;32mfrom\u001b[0m \u001b[0mos\u001b[0m\u001b[0;34m.\u001b[0m\u001b[0mpath\u001b[0m \u001b[0;32mimport\u001b[0m \u001b[0mabspath\u001b[0m\u001b[0;34m\u001b[0m\u001b[0;34m\u001b[0m\u001b[0m\n\u001b[0;32m----> 5\u001b[0;31m \u001b[0;32mfrom\u001b[0m \u001b[0mdigitclutter\u001b[0m \u001b[0;32mimport\u001b[0m \u001b[0mgenerate\u001b[0m\u001b[0;34m,\u001b[0m \u001b[0mio\u001b[0m\u001b[0;34m\u001b[0m\u001b[0;34m\u001b[0m\u001b[0m\n\u001b[0m\u001b[1;32m      6\u001b[0m \u001b[0;32mfrom\u001b[0m \u001b[0mscipy\u001b[0m\u001b[0;34m.\u001b[0m\u001b[0mio\u001b[0m \u001b[0;32mimport\u001b[0m \u001b[0msavemat\u001b[0m\u001b[0;34m\u001b[0m\u001b[0;34m\u001b[0m\u001b[0m\n\u001b[1;32m      7\u001b[0m \u001b[0;32mimport\u001b[0m \u001b[0mprogressbar\u001b[0m\u001b[0;34m\u001b[0m\u001b[0;34m\u001b[0m\u001b[0m\n",
      "\u001b[0;32m~/.julia/conda/3/lib/python3.7/site-packages/digitclutter/generate.py\u001b[0m in \u001b[0;36m<module>\u001b[0;34m\u001b[0m\n\u001b[1;32m      7\u001b[0m \u001b[0;32mfrom\u001b[0m \u001b[0mwarnings\u001b[0m \u001b[0;32mimport\u001b[0m \u001b[0mwarn\u001b[0m\u001b[0;34m\u001b[0m\u001b[0;34m\u001b[0m\u001b[0m\n\u001b[1;32m      8\u001b[0m \u001b[0;32mfrom\u001b[0m \u001b[0mshutil\u001b[0m \u001b[0;32mimport\u001b[0m \u001b[0mrmtree\u001b[0m\u001b[0;34m\u001b[0m\u001b[0;34m\u001b[0m\u001b[0m\n\u001b[0;32m----> 9\u001b[0;31m \u001b[0;32mimport\u001b[0m \u001b[0mnumpy\u001b[0m \u001b[0;32mas\u001b[0m \u001b[0mnp\u001b[0m\u001b[0;34m\u001b[0m\u001b[0;34m\u001b[0m\u001b[0m\n\u001b[0m\u001b[1;32m     10\u001b[0m \u001b[0;32mfrom\u001b[0m \u001b[0mPIL\u001b[0m \u001b[0;32mimport\u001b[0m \u001b[0mImage\u001b[0m\u001b[0;34m\u001b[0m\u001b[0;34m\u001b[0m\u001b[0m\n\u001b[1;32m     11\u001b[0m \u001b[0;32mfrom\u001b[0m \u001b[0mdigitclutter\u001b[0m\u001b[0;34m.\u001b[0m\u001b[0mcharacter\u001b[0m \u001b[0;32mimport\u001b[0m \u001b[0mCharacter\u001b[0m\u001b[0;34m\u001b[0m\u001b[0;34m\u001b[0m\u001b[0m\n",
      "\u001b[0;31mModuleNotFoundError\u001b[0m: No module named 'numpy'"
     ]
    }
   ],
   "source": [
    "import sys\n",
    "sys.path.append('../')\n",
    "import platform\n",
    "from os.path import abspath\n",
    "from digitclutter import generate, io\n",
    "from scipy.io import savemat\n",
    "import progressbar\n",
    "\n",
    "'''\n",
    "Generates an image set with the same statistics and the light debris data set describred here\n",
    "(https://doi.org/10.1101/133330s)\n",
    "'''\n",
    "\n",
    "##########################\n",
    "#------CONFIGURATION------\n",
    "##########################\n",
    "# Dataset 100.000 Training samples, 10.000 Validation samples, 10.000 Test samples\n",
    "# Warning: 100.000 images result in 75GB of images during rendering\n",
    "n_samples = 200\n",
    "# if diskspace is limited increase n_batches \n",
    "# This will create n batches with n samples each\n",
    "n_batches = 3\n",
    "\n",
    "#number of fragments present in each image (10, 30, 50)\n",
    "n_debris = [10, 11]\n",
    "#n_debris = [30, 31]\n",
    "#n_debris = [50, 51]\n",
    "\n",
    "font_set = ['arial-bold']\n",
    "\n",
    "for i in range(1, n_batches+1):\n",
    "    # Generate samples\n",
    "    clutter_list = [generate.sample_clutter(font_set=font_set) for i in range(n_samples)]\n",
    "\n",
    "    # Save image set\n",
    "    clutter_list = io.name_files('../digitdebris/' + str(n_debris[0]) + 'debris', clutter_list=clutter_list)\n",
    "    io.save_image_set(clutter_list, '../digitdebris/' + str(n_samples) + '_' + str(n_debris[0]) + 'debris.csv')\n",
    "\n",
    "    # Render images and save as mat file\n",
    "    print('Rendering images...')\n",
    "    sys.stdout.flush()\n",
    "\n",
    "    bar = progressbar.ProgressBar(maxval=len(clutter_list))\n",
    "    bar.start()\n",
    "    for i, cl in enumerate(clutter_list):\n",
    "        cl.render_occlusion()\n",
    "        bar.update(i+1)\n",
    "    print('Saving mat file...')\n",
    "    fname_list = [cl.fname for cl in clutter_list]\n",
    "    images_dict = io.save_images_as_mat(abspath('../digitdebris/' + str(n_samples) + '_' + str(n_debris[0]) + '_no_debris.mat'), \n",
    "                                        clutter_list, (32,32), fname_list=fname_list, delete_bmps=True, overwrite_wdir=True)\n",
    "\n",
    "    # Make debris \n",
    "    debris_array = generate.make_debris(n_samples, n_debris=n_debris, font_set=font_set)\n",
    "    images_with_debris = generate.add_debris(images_dict['images'], debris_array)\n",
    "\n",
    "    images_with_debris_dict = {\n",
    "        'images':images_with_debris,\n",
    "        'targets':images_dict['targets'],\n",
    "        'binary_targets':images_dict['binary_targets']\n",
    "        }\n",
    "    savemat('../digitdebris/' + str(n_samples) + '_' + str(n_debris[0]) + 'debris' + i + '.mat', images_with_debris_dict)\n",
    "    print('Done. Images saved at {0}'.format(abspath('../digitdebris/' + str(n_samples) + '_' + str(n_debris[0]) + 'debris' + i + '.mat')))"
   ]
  }
 ],
 "metadata": {
  "kernelspec": {
   "display_name": "Python 3",
   "language": "python",
   "name": "python3"
  },
  "language_info": {
   "codemirror_mode": {
    "name": "ipython",
    "version": 3
   },
   "file_extension": ".py",
   "mimetype": "text/x-python",
   "name": "python",
   "nbconvert_exporter": "python",
   "pygments_lexer": "ipython3",
   "version": "3.7.3"
  }
 },
 "nbformat": 4,
 "nbformat_minor": 2
}
