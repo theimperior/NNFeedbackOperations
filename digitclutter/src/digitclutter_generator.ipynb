{
 "cells": [
  {
   "cell_type": "code",
   "execution_count": 1,
   "metadata": {},
   "outputs": [
    {
     "name": "stdout",
     "output_type": "stream",
     "text": [
      "Rendering images...\n"
     ]
    },
    {
     "name": "stderr",
     "output_type": "stream",
     "text": [
      "100% (200 of 200) |######################| Elapsed Time: 0:02:04 ETA:  00:00:00"
     ]
    },
    {
     "name": "stdout",
     "output_type": "stream",
     "text": [
      "Saving mat file...\n",
      "Using C:\\Users\\Sebastian Vendt\\Git\\NNFeedbackOperations\\digitclutter\\src\\temp_workspace as the working directory\n",
      "Resizing the images\n",
      "Generating image arrays\n",
      "Generating target arrays\n",
      "Images and target arrays saved to C:\\Users\\Sebastian Vendt\\Git\\NNFeedbackOperations\\digitclutter\\digitclutter\\200_4digits.mat\n"
     ]
    }
   ],
   "source": [
    "import sys\n",
    "sys.path.append('../')\n",
    "import platform\n",
    "from os.path import abspath\n",
    "from digitclutter import generate, io\n",
    "from scipy.io import savemat\n",
    "import progressbar\n",
    "\n",
    "\"\"\"\n",
    "Generates an image set with the same statistics and the light debris data set describred here\n",
    "(https://doi.org/10.1101/133330s)\n",
    "\"\"\"\n",
    "##########################\n",
    "#------CONFIGURATION------\n",
    "##########################\n",
    "# Dataset 100.000 Training samples, 10.000 Validation samples, 10.000 Test samples\n",
    "# Warning: 100.000 images result in 75GB of images during rendering\n",
    "n_samples = 200\n",
    "\n",
    "#number of digits present in each image (3, 4, 5)\n",
    "digits = 4\n",
    "\n",
    "\n",
    "font_set = ['arial-bold']\n",
    "# Generate samples\n",
    "clutter_list = [generate.sample_clutter(font_set=font_set, n_letters=digits) for i in range(n_samples)]\n",
    "\n",
    "# Save image set\n",
    "clutter_list = io.name_files('../digitclutter/' + str(digits) + 'digits', clutter_list=clutter_list)\n",
    "io.save_image_set(clutter_list, '../digitclutter/' + str(n_samples) + '_' + str(digits) + 'digits.csv')\n",
    "\n",
    "# Render images and save as mat file\n",
    "print('Rendering images...')\n",
    "sys.stdout.flush()\n",
    "\n",
    "bar = progressbar.ProgressBar(maxval=len(clutter_list))\n",
    "bar.start()\n",
    "for i, cl in enumerate(clutter_list):\n",
    "    cl.render_occlusion()\n",
    "    bar.update(i+1)\n",
    "    \n",
    "print('Saving mat file...')\n",
    "fname_list = [cl.fname for cl in clutter_list]\n",
    "images_dict = io.save_images_as_mat(abspath('../digitclutter/' + str(n_samples) + '_' + str(digits) + 'digits.mat'), \n",
    "                                    clutter_list, (32,32), fname_list=fname_list, delete_bmps=True, overwrite_wdir=True)"
   ]
  }
 ],
 "metadata": {
  "kernelspec": {
   "display_name": "Python 3",
   "language": "python",
   "name": "python3"
  },
  "language_info": {
   "codemirror_mode": {
    "name": "ipython",
    "version": 3
   },
   "file_extension": ".py",
   "mimetype": "text/x-python",
   "name": "python",
   "nbconvert_exporter": "python",
   "pygments_lexer": "ipython3",
   "version": "3.6.5"
  }
 },
 "nbformat": 4,
 "nbformat_minor": 2
}
