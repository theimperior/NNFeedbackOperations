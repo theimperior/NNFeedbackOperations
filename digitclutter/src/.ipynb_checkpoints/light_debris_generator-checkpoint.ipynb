{
 "cells": [
  {
   "cell_type": "code",
   "execution_count": null,
   "metadata": {},
   "outputs": [],
   "source": [
    "import sys\n",
    "sys.path.append('../')\n",
    "import platform\n",
    "from os.path import abspath\n",
    "from digitclutter import generate, io\n",
    "from scipy.io import savemat\n",
    "import progressbar\n",
    "\n",
    "'''\n",
    "Generates an image set with the same statistics and the light debris data set describred here\n",
    "(https://doi.org/10.1101/133330s)\n",
    "'''\n",
    "\n",
    "n_samples = 50\n",
    "n_debris = [10, 11]\n",
    "if platform.system() == 'Windows':\n",
    "    font_set = ['arial-bold']\n",
    "else:\n",
    "    font_set = ['helvetica-bold']\n",
    "\n",
    "# Generate samples\n",
    "clutter_list = [generate.sample_clutter(font_set=font_set) for i in range(n_samples)]\n",
    "\n",
    "# Save image set\n",
    "clutter_list = io.name_files('light_debris', clutter_list=clutter_list)\n",
    "io.save_image_set(clutter_list, 'light_debris/light_debris.csv')\n",
    "\n",
    "# Render images and save as mat file\n",
    "print('Rendering images...')\n",
    "bar = progressbar.ProgressBar(maxval=len(clutter_list))\n",
    "bar.start()\n",
    "for i, cl in enumerate(clutter_list):\n",
    "    cl.render_occlusion()\n",
    "    bar.update(i+1)\n",
    "print('Saving mat file...')\n",
    "fname_list = [cl.fname for cl in clutter_list]\n",
    "images_dict = io.save_images_as_mat(abspath('light_debris/light_debris.mat'), clutter_list, (32,32),\n",
    "                                    fname_list=fname_list, delete_bmps=True, overwrite_wdir=True)\n",
    "\n",
    "# Make debris \n",
    "debris_array = generate.make_debris(n_samples, n_debris=n_debris, font_set=font_set)\n",
    "images_with_debris = generate.add_debris(images_dict['images'], debris_array)\n",
    "\n",
    "images_with_debris_dict = {\n",
    "    'images':images_with_debris,\n",
    "    'targets':images_dict['targets'],\n",
    "    'binary_targets':images_dict['binary_targets']\n",
    "    }\n",
    "savemat('light_debris/light_debris_with_debris.mat', images_with_debris_dict)\n",
    "print('Done. Images saved at {0}'.format(abspath('light_debris/light_debris_with_debris.mat')))\n"
   ]
  }
 ],
 "metadata": {
  "kernelspec": {
   "display_name": "Python 3",
   "language": "python",
   "name": "python3"
  },
  "language_info": {
   "codemirror_mode": {
    "name": "ipython",
    "version": 3
   },
   "file_extension": ".py",
   "mimetype": "text/x-python",
   "name": "python",
   "nbconvert_exporter": "python",
   "pygments_lexer": "ipython3",
   "version": "3.6.5"
  }
 },
 "nbformat": 4,
 "nbformat_minor": 2
}
